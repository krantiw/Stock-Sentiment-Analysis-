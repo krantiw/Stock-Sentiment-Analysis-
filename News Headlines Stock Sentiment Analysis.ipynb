{
 "cells": [
  {
   "cell_type": "code",
   "execution_count": 1,
   "id": "executive-correlation",
   "metadata": {},
   "outputs": [],
   "source": [
    "import pandas as pd"
   ]
  },
  {
   "cell_type": "code",
   "execution_count": 2,
   "id": "worldwide-words",
   "metadata": {
    "scrolled": true
   },
   "outputs": [
    {
     "data": {
      "text/html": [
       "<div>\n",
       "<style scoped>\n",
       "    .dataframe tbody tr th:only-of-type {\n",
       "        vertical-align: middle;\n",
       "    }\n",
       "\n",
       "    .dataframe tbody tr th {\n",
       "        vertical-align: top;\n",
       "    }\n",
       "\n",
       "    .dataframe thead th {\n",
       "        text-align: right;\n",
       "    }\n",
       "</style>\n",
       "<table border=\"1\" class=\"dataframe\">\n",
       "  <thead>\n",
       "    <tr style=\"text-align: right;\">\n",
       "      <th></th>\n",
       "      <th>Date</th>\n",
       "      <th>Label</th>\n",
       "      <th>Top1</th>\n",
       "      <th>Top2</th>\n",
       "      <th>Top3</th>\n",
       "      <th>Top4</th>\n",
       "      <th>Top5</th>\n",
       "      <th>Top6</th>\n",
       "      <th>Top7</th>\n",
       "      <th>Top8</th>\n",
       "      <th>...</th>\n",
       "      <th>Top16</th>\n",
       "      <th>Top17</th>\n",
       "      <th>Top18</th>\n",
       "      <th>Top19</th>\n",
       "      <th>Top20</th>\n",
       "      <th>Top21</th>\n",
       "      <th>Top22</th>\n",
       "      <th>Top23</th>\n",
       "      <th>Top24</th>\n",
       "      <th>Top25</th>\n",
       "    </tr>\n",
       "  </thead>\n",
       "  <tbody>\n",
       "    <tr>\n",
       "      <th>0</th>\n",
       "      <td>2008-08-08</td>\n",
       "      <td>0</td>\n",
       "      <td>b\"Georgia 'downs two Russian warplanes' as cou...</td>\n",
       "      <td>b'BREAKING: Musharraf to be impeached.'</td>\n",
       "      <td>b'Russia Today: Columns of troops roll into So...</td>\n",
       "      <td>b'Russian tanks are moving towards the capital...</td>\n",
       "      <td>b\"Afghan children raped with 'impunity,' U.N. ...</td>\n",
       "      <td>b'150 Russian tanks have entered South Ossetia...</td>\n",
       "      <td>b\"Breaking: Georgia invades South Ossetia, Rus...</td>\n",
       "      <td>b\"The 'enemy combatent' trials are nothing but...</td>\n",
       "      <td>...</td>\n",
       "      <td>b'Georgia Invades South Ossetia - if Russia ge...</td>\n",
       "      <td>b'Al-Qaeda Faces Islamist Backlash'</td>\n",
       "      <td>b'Condoleezza Rice: \"The US would not act to p...</td>\n",
       "      <td>b'This is a busy day:  The European Union has ...</td>\n",
       "      <td>b\"Georgia will withdraw 1,000 soldiers from Ir...</td>\n",
       "      <td>b'Why the Pentagon Thinks Attacking Iran is a ...</td>\n",
       "      <td>b'Caucasus in crisis: Georgia invades South Os...</td>\n",
       "      <td>b'Indian shoe manufactory  - And again in a se...</td>\n",
       "      <td>b'Visitors Suffering from Mental Illnesses Ban...</td>\n",
       "      <td>b\"No Help for Mexico's Kidnapping Surge\"</td>\n",
       "    </tr>\n",
       "    <tr>\n",
       "      <th>1</th>\n",
       "      <td>2008-08-11</td>\n",
       "      <td>1</td>\n",
       "      <td>b'Why wont America and Nato help us? If they w...</td>\n",
       "      <td>b'Bush puts foot down on Georgian conflict'</td>\n",
       "      <td>b\"Jewish Georgian minister: Thanks to Israeli ...</td>\n",
       "      <td>b'Georgian army flees in disarray as Russians ...</td>\n",
       "      <td>b\"Olympic opening ceremony fireworks 'faked'\"</td>\n",
       "      <td>b'What were the Mossad with fraudulent New Zea...</td>\n",
       "      <td>b'Russia angered by Israeli military sale to G...</td>\n",
       "      <td>b'An American citizen living in S.Ossetia blam...</td>\n",
       "      <td>...</td>\n",
       "      <td>b'Israel and the US behind the Georgian aggres...</td>\n",
       "      <td>b'\"Do not believe TV, neither Russian nor Geor...</td>\n",
       "      <td>b'Riots are still going on in Montreal (Canada...</td>\n",
       "      <td>b'China to overtake US as largest manufacturer'</td>\n",
       "      <td>b'War in South Ossetia [PICS]'</td>\n",
       "      <td>b'Israeli Physicians Group Condemns State Tort...</td>\n",
       "      <td>b' Russia has just beaten the United States ov...</td>\n",
       "      <td>b'Perhaps *the* question about the Georgia - R...</td>\n",
       "      <td>b'Russia is so much better at war'</td>\n",
       "      <td>b\"So this is what it's come to: trading sex fo...</td>\n",
       "    </tr>\n",
       "    <tr>\n",
       "      <th>2</th>\n",
       "      <td>2008-08-12</td>\n",
       "      <td>0</td>\n",
       "      <td>b'Remember that adorable 9-year-old who sang a...</td>\n",
       "      <td>b\"Russia 'ends Georgia operation'\"</td>\n",
       "      <td>b'\"If we had no sexual harassment we would hav...</td>\n",
       "      <td>b\"Al-Qa'eda is losing support in Iraq because ...</td>\n",
       "      <td>b'Ceasefire in Georgia: Putin Outmaneuvers the...</td>\n",
       "      <td>b'Why Microsoft and Intel tried to kill the XO...</td>\n",
       "      <td>b'Stratfor: The Russo-Georgian War and the Bal...</td>\n",
       "      <td>b\"I'm Trying to Get a Sense of This Whole Geor...</td>\n",
       "      <td>...</td>\n",
       "      <td>b'U.S. troops still in Georgia (did you know t...</td>\n",
       "      <td>b'Why Russias response to Georgia was right'</td>\n",
       "      <td>b'Gorbachev accuses U.S. of making a \"serious ...</td>\n",
       "      <td>b'Russia, Georgia, and NATO: Cold War Two'</td>\n",
       "      <td>b'Remember that adorable 62-year-old who led y...</td>\n",
       "      <td>b'War in Georgia: The Israeli connection'</td>\n",
       "      <td>b'All signs point to the US encouraging Georgi...</td>\n",
       "      <td>b'Christopher King argues that the US and NATO...</td>\n",
       "      <td>b'America: The New Mexico?'</td>\n",
       "      <td>b\"BBC NEWS | Asia-Pacific | Extinction 'by man...</td>\n",
       "    </tr>\n",
       "    <tr>\n",
       "      <th>3</th>\n",
       "      <td>2008-08-13</td>\n",
       "      <td>0</td>\n",
       "      <td>b' U.S. refuses Israel weapons to attack Iran:...</td>\n",
       "      <td>b\"When the president ordered to attack Tskhinv...</td>\n",
       "      <td>b' Israel clears troops who killed Reuters cam...</td>\n",
       "      <td>b'Britain\\'s policy of being tough on drugs is...</td>\n",
       "      <td>b'Body of 14 year old found in trunk; Latest (...</td>\n",
       "      <td>b'China has moved 10 *million* quake survivors...</td>\n",
       "      <td>b\"Bush announces Operation Get All Up In Russi...</td>\n",
       "      <td>b'Russian forces sink Georgian ships '</td>\n",
       "      <td>...</td>\n",
       "      <td>b'Elephants extinct by 2020?'</td>\n",
       "      <td>b'US humanitarian missions soon in Georgia - i...</td>\n",
       "      <td>b\"Georgia's DDOS came from US sources\"</td>\n",
       "      <td>b'Russian convoy heads into Georgia, violating...</td>\n",
       "      <td>b'Israeli defence minister: US against strike ...</td>\n",
       "      <td>b'Gorbachev: We Had No Choice'</td>\n",
       "      <td>b'Witness: Russian forces head towards Tbilisi...</td>\n",
       "      <td>b' Quarter of Russians blame U.S. for conflict...</td>\n",
       "      <td>b'Georgian president  says US military will ta...</td>\n",
       "      <td>b'2006: Nobel laureate Aleksander Solzhenitsyn...</td>\n",
       "    </tr>\n",
       "    <tr>\n",
       "      <th>4</th>\n",
       "      <td>2008-08-14</td>\n",
       "      <td>1</td>\n",
       "      <td>b'All the experts admit that we should legalis...</td>\n",
       "      <td>b'War in South Osetia - 89 pictures made by a ...</td>\n",
       "      <td>b'Swedish wrestler Ara Abrahamian throws away ...</td>\n",
       "      <td>b'Russia exaggerated the death toll in South O...</td>\n",
       "      <td>b'Missile That Killed 9 Inside Pakistan May Ha...</td>\n",
       "      <td>b\"Rushdie Condemns Random House's Refusal to P...</td>\n",
       "      <td>b'Poland and US agree to missle defense deal. ...</td>\n",
       "      <td>b'Will the Russians conquer Tblisi? Bet on it,...</td>\n",
       "      <td>...</td>\n",
       "      <td>b'Bank analyst forecast Georgian crisis 2 days...</td>\n",
       "      <td>b\"Georgia confict could set back Russia's US r...</td>\n",
       "      <td>b'War in the Caucasus is as much the product o...</td>\n",
       "      <td>b'\"Non-media\" photos of South Ossetia/Georgia ...</td>\n",
       "      <td>b'Georgian TV reporter shot by Russian sniper ...</td>\n",
       "      <td>b'Saudi Arabia: Mother moves to block child ma...</td>\n",
       "      <td>b'Taliban wages war on humanitarian aid workers'</td>\n",
       "      <td>b'Russia: World  \"can forget about\" Georgia\\'s...</td>\n",
       "      <td>b'Darfur rebels accuse Sudan of mounting major...</td>\n",
       "      <td>b'Philippines : Peace Advocate say Muslims nee...</td>\n",
       "    </tr>\n",
       "  </tbody>\n",
       "</table>\n",
       "<p>5 rows × 27 columns</p>\n",
       "</div>"
      ],
      "text/plain": [
       "         Date  Label                                               Top1  \\\n",
       "0  2008-08-08      0  b\"Georgia 'downs two Russian warplanes' as cou...   \n",
       "1  2008-08-11      1  b'Why wont America and Nato help us? If they w...   \n",
       "2  2008-08-12      0  b'Remember that adorable 9-year-old who sang a...   \n",
       "3  2008-08-13      0  b' U.S. refuses Israel weapons to attack Iran:...   \n",
       "4  2008-08-14      1  b'All the experts admit that we should legalis...   \n",
       "\n",
       "                                                Top2  \\\n",
       "0            b'BREAKING: Musharraf to be impeached.'   \n",
       "1        b'Bush puts foot down on Georgian conflict'   \n",
       "2                 b\"Russia 'ends Georgia operation'\"   \n",
       "3  b\"When the president ordered to attack Tskhinv...   \n",
       "4  b'War in South Osetia - 89 pictures made by a ...   \n",
       "\n",
       "                                                Top3  \\\n",
       "0  b'Russia Today: Columns of troops roll into So...   \n",
       "1  b\"Jewish Georgian minister: Thanks to Israeli ...   \n",
       "2  b'\"If we had no sexual harassment we would hav...   \n",
       "3  b' Israel clears troops who killed Reuters cam...   \n",
       "4  b'Swedish wrestler Ara Abrahamian throws away ...   \n",
       "\n",
       "                                                Top4  \\\n",
       "0  b'Russian tanks are moving towards the capital...   \n",
       "1  b'Georgian army flees in disarray as Russians ...   \n",
       "2  b\"Al-Qa'eda is losing support in Iraq because ...   \n",
       "3  b'Britain\\'s policy of being tough on drugs is...   \n",
       "4  b'Russia exaggerated the death toll in South O...   \n",
       "\n",
       "                                                Top5  \\\n",
       "0  b\"Afghan children raped with 'impunity,' U.N. ...   \n",
       "1      b\"Olympic opening ceremony fireworks 'faked'\"   \n",
       "2  b'Ceasefire in Georgia: Putin Outmaneuvers the...   \n",
       "3  b'Body of 14 year old found in trunk; Latest (...   \n",
       "4  b'Missile That Killed 9 Inside Pakistan May Ha...   \n",
       "\n",
       "                                                Top6  \\\n",
       "0  b'150 Russian tanks have entered South Ossetia...   \n",
       "1  b'What were the Mossad with fraudulent New Zea...   \n",
       "2  b'Why Microsoft and Intel tried to kill the XO...   \n",
       "3  b'China has moved 10 *million* quake survivors...   \n",
       "4  b\"Rushdie Condemns Random House's Refusal to P...   \n",
       "\n",
       "                                                Top7  \\\n",
       "0  b\"Breaking: Georgia invades South Ossetia, Rus...   \n",
       "1  b'Russia angered by Israeli military sale to G...   \n",
       "2  b'Stratfor: The Russo-Georgian War and the Bal...   \n",
       "3  b\"Bush announces Operation Get All Up In Russi...   \n",
       "4  b'Poland and US agree to missle defense deal. ...   \n",
       "\n",
       "                                                Top8  ...  \\\n",
       "0  b\"The 'enemy combatent' trials are nothing but...  ...   \n",
       "1  b'An American citizen living in S.Ossetia blam...  ...   \n",
       "2  b\"I'm Trying to Get a Sense of This Whole Geor...  ...   \n",
       "3             b'Russian forces sink Georgian ships '  ...   \n",
       "4  b'Will the Russians conquer Tblisi? Bet on it,...  ...   \n",
       "\n",
       "                                               Top16  \\\n",
       "0  b'Georgia Invades South Ossetia - if Russia ge...   \n",
       "1  b'Israel and the US behind the Georgian aggres...   \n",
       "2  b'U.S. troops still in Georgia (did you know t...   \n",
       "3                      b'Elephants extinct by 2020?'   \n",
       "4  b'Bank analyst forecast Georgian crisis 2 days...   \n",
       "\n",
       "                                               Top17  \\\n",
       "0                b'Al-Qaeda Faces Islamist Backlash'   \n",
       "1  b'\"Do not believe TV, neither Russian nor Geor...   \n",
       "2       b'Why Russias response to Georgia was right'   \n",
       "3  b'US humanitarian missions soon in Georgia - i...   \n",
       "4  b\"Georgia confict could set back Russia's US r...   \n",
       "\n",
       "                                               Top18  \\\n",
       "0  b'Condoleezza Rice: \"The US would not act to p...   \n",
       "1  b'Riots are still going on in Montreal (Canada...   \n",
       "2  b'Gorbachev accuses U.S. of making a \"serious ...   \n",
       "3             b\"Georgia's DDOS came from US sources\"   \n",
       "4  b'War in the Caucasus is as much the product o...   \n",
       "\n",
       "                                               Top19  \\\n",
       "0  b'This is a busy day:  The European Union has ...   \n",
       "1    b'China to overtake US as largest manufacturer'   \n",
       "2         b'Russia, Georgia, and NATO: Cold War Two'   \n",
       "3  b'Russian convoy heads into Georgia, violating...   \n",
       "4  b'\"Non-media\" photos of South Ossetia/Georgia ...   \n",
       "\n",
       "                                               Top20  \\\n",
       "0  b\"Georgia will withdraw 1,000 soldiers from Ir...   \n",
       "1                     b'War in South Ossetia [PICS]'   \n",
       "2  b'Remember that adorable 62-year-old who led y...   \n",
       "3  b'Israeli defence minister: US against strike ...   \n",
       "4  b'Georgian TV reporter shot by Russian sniper ...   \n",
       "\n",
       "                                               Top21  \\\n",
       "0  b'Why the Pentagon Thinks Attacking Iran is a ...   \n",
       "1  b'Israeli Physicians Group Condemns State Tort...   \n",
       "2          b'War in Georgia: The Israeli connection'   \n",
       "3                     b'Gorbachev: We Had No Choice'   \n",
       "4  b'Saudi Arabia: Mother moves to block child ma...   \n",
       "\n",
       "                                               Top22  \\\n",
       "0  b'Caucasus in crisis: Georgia invades South Os...   \n",
       "1  b' Russia has just beaten the United States ov...   \n",
       "2  b'All signs point to the US encouraging Georgi...   \n",
       "3  b'Witness: Russian forces head towards Tbilisi...   \n",
       "4   b'Taliban wages war on humanitarian aid workers'   \n",
       "\n",
       "                                               Top23  \\\n",
       "0  b'Indian shoe manufactory  - And again in a se...   \n",
       "1  b'Perhaps *the* question about the Georgia - R...   \n",
       "2  b'Christopher King argues that the US and NATO...   \n",
       "3  b' Quarter of Russians blame U.S. for conflict...   \n",
       "4  b'Russia: World  \"can forget about\" Georgia\\'s...   \n",
       "\n",
       "                                               Top24  \\\n",
       "0  b'Visitors Suffering from Mental Illnesses Ban...   \n",
       "1                 b'Russia is so much better at war'   \n",
       "2                        b'America: The New Mexico?'   \n",
       "3  b'Georgian president  says US military will ta...   \n",
       "4  b'Darfur rebels accuse Sudan of mounting major...   \n",
       "\n",
       "                                               Top25  \n",
       "0           b\"No Help for Mexico's Kidnapping Surge\"  \n",
       "1  b\"So this is what it's come to: trading sex fo...  \n",
       "2  b\"BBC NEWS | Asia-Pacific | Extinction 'by man...  \n",
       "3  b'2006: Nobel laureate Aleksander Solzhenitsyn...  \n",
       "4  b'Philippines : Peace Advocate say Muslims nee...  \n",
       "\n",
       "[5 rows x 27 columns]"
      ]
     },
     "execution_count": 2,
     "metadata": {},
     "output_type": "execute_result"
    }
   ],
   "source": [
    "df = pd.read_csv(\"data.csv\", encoding = \"ISO-8859-1\")\n",
    "df.head()"
   ]
  },
  {
   "cell_type": "markdown",
   "id": "twelve-depression",
   "metadata": {},
   "source": [
    "#### Preprocessing the data"
   ]
  },
  {
   "cell_type": "code",
   "execution_count": 3,
   "id": "controlling-rebound",
   "metadata": {
    "scrolled": true
   },
   "outputs": [
    {
     "data": {
      "text/plain": [
       "Index(['Date', 'Label', 'Top1', 'Top2', 'Top3', 'Top4', 'Top5', 'Top6', 'Top7',\n",
       "       'Top8', 'Top9', 'Top10', 'Top11', 'Top12', 'Top13', 'Top14', 'Top15',\n",
       "       'Top16', 'Top17', 'Top18', 'Top19', 'Top20', 'Top21', 'Top22', 'Top23',\n",
       "       'Top24', 'Top25'],\n",
       "      dtype='object')"
      ]
     },
     "execution_count": 3,
     "metadata": {},
     "output_type": "execute_result"
    }
   ],
   "source": [
    "df.columns"
   ]
  },
  {
   "cell_type": "code",
   "execution_count": 4,
   "id": "careful-musical",
   "metadata": {},
   "outputs": [
    {
     "data": {
      "text/html": [
       "<div>\n",
       "<style scoped>\n",
       "    .dataframe tbody tr th:only-of-type {\n",
       "        vertical-align: middle;\n",
       "    }\n",
       "\n",
       "    .dataframe tbody tr th {\n",
       "        vertical-align: top;\n",
       "    }\n",
       "\n",
       "    .dataframe thead th {\n",
       "        text-align: right;\n",
       "    }\n",
       "</style>\n",
       "<table border=\"1\" class=\"dataframe\">\n",
       "  <thead>\n",
       "    <tr style=\"text-align: right;\">\n",
       "      <th></th>\n",
       "      <th>Date</th>\n",
       "      <th>Label</th>\n",
       "      <th>Top1</th>\n",
       "      <th>Top2</th>\n",
       "      <th>Top3</th>\n",
       "      <th>Top4</th>\n",
       "      <th>Top5</th>\n",
       "      <th>Top6</th>\n",
       "      <th>Top7</th>\n",
       "      <th>Top8</th>\n",
       "      <th>...</th>\n",
       "      <th>Top16</th>\n",
       "      <th>Top17</th>\n",
       "      <th>Top18</th>\n",
       "      <th>Top19</th>\n",
       "      <th>Top20</th>\n",
       "      <th>Top21</th>\n",
       "      <th>Top22</th>\n",
       "      <th>Top23</th>\n",
       "      <th>Top24</th>\n",
       "      <th>Top25</th>\n",
       "    </tr>\n",
       "  </thead>\n",
       "  <tbody>\n",
       "    <tr>\n",
       "      <th>0</th>\n",
       "      <td>2008-08-08</td>\n",
       "      <td>0</td>\n",
       "      <td>b\"georgia 'downs two russian warplanes' as cou...</td>\n",
       "      <td>b'breaking: musharraf to be impeached.'</td>\n",
       "      <td>b'russia today: columns of troops roll into so...</td>\n",
       "      <td>b'russian tanks are moving towards the capital...</td>\n",
       "      <td>b\"afghan children raped with 'impunity,' u.n. ...</td>\n",
       "      <td>b'150 russian tanks have entered south ossetia...</td>\n",
       "      <td>b\"breaking: georgia invades south ossetia, rus...</td>\n",
       "      <td>b\"the 'enemy combatent' trials are nothing but...</td>\n",
       "      <td>...</td>\n",
       "      <td>b'georgia invades south ossetia - if russia ge...</td>\n",
       "      <td>b'al-qaeda faces islamist backlash'</td>\n",
       "      <td>b'condoleezza rice: \"the us would not act to p...</td>\n",
       "      <td>b'this is a busy day:  the european union has ...</td>\n",
       "      <td>b\"georgia will withdraw 1,000 soldiers from ir...</td>\n",
       "      <td>b'why the pentagon thinks attacking iran is a ...</td>\n",
       "      <td>b'caucasus in crisis: georgia invades south os...</td>\n",
       "      <td>b'indian shoe manufactory  - and again in a se...</td>\n",
       "      <td>b'visitors suffering from mental illnesses ban...</td>\n",
       "      <td>b\"no help for mexico's kidnapping surge\"</td>\n",
       "    </tr>\n",
       "    <tr>\n",
       "      <th>1</th>\n",
       "      <td>2008-08-11</td>\n",
       "      <td>1</td>\n",
       "      <td>b'why wont america and nato help us? if they w...</td>\n",
       "      <td>b'bush puts foot down on georgian conflict'</td>\n",
       "      <td>b\"jewish georgian minister: thanks to israeli ...</td>\n",
       "      <td>b'georgian army flees in disarray as russians ...</td>\n",
       "      <td>b\"olympic opening ceremony fireworks 'faked'\"</td>\n",
       "      <td>b'what were the mossad with fraudulent new zea...</td>\n",
       "      <td>b'russia angered by israeli military sale to g...</td>\n",
       "      <td>b'an american citizen living in s.ossetia blam...</td>\n",
       "      <td>...</td>\n",
       "      <td>b'israel and the us behind the georgian aggres...</td>\n",
       "      <td>b'\"do not believe tv, neither russian nor geor...</td>\n",
       "      <td>b'riots are still going on in montreal (canada...</td>\n",
       "      <td>b'china to overtake us as largest manufacturer'</td>\n",
       "      <td>b'war in south ossetia [pics]'</td>\n",
       "      <td>b'israeli physicians group condemns state tort...</td>\n",
       "      <td>b' russia has just beaten the united states ov...</td>\n",
       "      <td>b'perhaps *the* question about the georgia - r...</td>\n",
       "      <td>b'russia is so much better at war'</td>\n",
       "      <td>b\"so this is what it's come to: trading sex fo...</td>\n",
       "    </tr>\n",
       "    <tr>\n",
       "      <th>2</th>\n",
       "      <td>2008-08-12</td>\n",
       "      <td>0</td>\n",
       "      <td>b'remember that adorable 9-year-old who sang a...</td>\n",
       "      <td>b\"russia 'ends georgia operation'\"</td>\n",
       "      <td>b'\"if we had no sexual harassment we would hav...</td>\n",
       "      <td>b\"al-qa'eda is losing support in iraq because ...</td>\n",
       "      <td>b'ceasefire in georgia: putin outmaneuvers the...</td>\n",
       "      <td>b'why microsoft and intel tried to kill the xo...</td>\n",
       "      <td>b'stratfor: the russo-georgian war and the bal...</td>\n",
       "      <td>b\"i'm trying to get a sense of this whole geor...</td>\n",
       "      <td>...</td>\n",
       "      <td>b'u.s. troops still in georgia (did you know t...</td>\n",
       "      <td>b'why russias response to georgia was right'</td>\n",
       "      <td>b'gorbachev accuses u.s. of making a \"serious ...</td>\n",
       "      <td>b'russia, georgia, and nato: cold war two'</td>\n",
       "      <td>b'remember that adorable 62-year-old who led y...</td>\n",
       "      <td>b'war in georgia: the israeli connection'</td>\n",
       "      <td>b'all signs point to the us encouraging georgi...</td>\n",
       "      <td>b'christopher king argues that the us and nato...</td>\n",
       "      <td>b'america: the new mexico?'</td>\n",
       "      <td>b\"bbc news | asia-pacific | extinction 'by man...</td>\n",
       "    </tr>\n",
       "  </tbody>\n",
       "</table>\n",
       "<p>3 rows × 27 columns</p>\n",
       "</div>"
      ],
      "text/plain": [
       "         Date  Label                                               Top1  \\\n",
       "0  2008-08-08      0  b\"georgia 'downs two russian warplanes' as cou...   \n",
       "1  2008-08-11      1  b'why wont america and nato help us? if they w...   \n",
       "2  2008-08-12      0  b'remember that adorable 9-year-old who sang a...   \n",
       "\n",
       "                                          Top2  \\\n",
       "0      b'breaking: musharraf to be impeached.'   \n",
       "1  b'bush puts foot down on georgian conflict'   \n",
       "2           b\"russia 'ends georgia operation'\"   \n",
       "\n",
       "                                                Top3  \\\n",
       "0  b'russia today: columns of troops roll into so...   \n",
       "1  b\"jewish georgian minister: thanks to israeli ...   \n",
       "2  b'\"if we had no sexual harassment we would hav...   \n",
       "\n",
       "                                                Top4  \\\n",
       "0  b'russian tanks are moving towards the capital...   \n",
       "1  b'georgian army flees in disarray as russians ...   \n",
       "2  b\"al-qa'eda is losing support in iraq because ...   \n",
       "\n",
       "                                                Top5  \\\n",
       "0  b\"afghan children raped with 'impunity,' u.n. ...   \n",
       "1      b\"olympic opening ceremony fireworks 'faked'\"   \n",
       "2  b'ceasefire in georgia: putin outmaneuvers the...   \n",
       "\n",
       "                                                Top6  \\\n",
       "0  b'150 russian tanks have entered south ossetia...   \n",
       "1  b'what were the mossad with fraudulent new zea...   \n",
       "2  b'why microsoft and intel tried to kill the xo...   \n",
       "\n",
       "                                                Top7  \\\n",
       "0  b\"breaking: georgia invades south ossetia, rus...   \n",
       "1  b'russia angered by israeli military sale to g...   \n",
       "2  b'stratfor: the russo-georgian war and the bal...   \n",
       "\n",
       "                                                Top8  ...  \\\n",
       "0  b\"the 'enemy combatent' trials are nothing but...  ...   \n",
       "1  b'an american citizen living in s.ossetia blam...  ...   \n",
       "2  b\"i'm trying to get a sense of this whole geor...  ...   \n",
       "\n",
       "                                               Top16  \\\n",
       "0  b'georgia invades south ossetia - if russia ge...   \n",
       "1  b'israel and the us behind the georgian aggres...   \n",
       "2  b'u.s. troops still in georgia (did you know t...   \n",
       "\n",
       "                                               Top17  \\\n",
       "0                b'al-qaeda faces islamist backlash'   \n",
       "1  b'\"do not believe tv, neither russian nor geor...   \n",
       "2       b'why russias response to georgia was right'   \n",
       "\n",
       "                                               Top18  \\\n",
       "0  b'condoleezza rice: \"the us would not act to p...   \n",
       "1  b'riots are still going on in montreal (canada...   \n",
       "2  b'gorbachev accuses u.s. of making a \"serious ...   \n",
       "\n",
       "                                               Top19  \\\n",
       "0  b'this is a busy day:  the european union has ...   \n",
       "1    b'china to overtake us as largest manufacturer'   \n",
       "2         b'russia, georgia, and nato: cold war two'   \n",
       "\n",
       "                                               Top20  \\\n",
       "0  b\"georgia will withdraw 1,000 soldiers from ir...   \n",
       "1                     b'war in south ossetia [pics]'   \n",
       "2  b'remember that adorable 62-year-old who led y...   \n",
       "\n",
       "                                               Top21  \\\n",
       "0  b'why the pentagon thinks attacking iran is a ...   \n",
       "1  b'israeli physicians group condemns state tort...   \n",
       "2          b'war in georgia: the israeli connection'   \n",
       "\n",
       "                                               Top22  \\\n",
       "0  b'caucasus in crisis: georgia invades south os...   \n",
       "1  b' russia has just beaten the united states ov...   \n",
       "2  b'all signs point to the us encouraging georgi...   \n",
       "\n",
       "                                               Top23  \\\n",
       "0  b'indian shoe manufactory  - and again in a se...   \n",
       "1  b'perhaps *the* question about the georgia - r...   \n",
       "2  b'christopher king argues that the us and nato...   \n",
       "\n",
       "                                               Top24  \\\n",
       "0  b'visitors suffering from mental illnesses ban...   \n",
       "1                 b'russia is so much better at war'   \n",
       "2                        b'america: the new mexico?'   \n",
       "\n",
       "                                               Top25  \n",
       "0           b\"no help for mexico's kidnapping surge\"  \n",
       "1  b\"so this is what it's come to: trading sex fo...  \n",
       "2  b\"bbc news | asia-pacific | extinction 'by man...  \n",
       "\n",
       "[3 rows x 27 columns]"
      ]
     },
     "execution_count": 4,
     "metadata": {},
     "output_type": "execute_result"
    }
   ],
   "source": [
    "#Converting to lower case from column 2 to 27\n",
    "for col in df.columns[2:27]:\n",
    "    df[col] = df[col].str.lower()\n",
    "df.head(3)"
   ]
  },
  {
   "cell_type": "code",
   "execution_count": 5,
   "id": "loving-stranger",
   "metadata": {
    "scrolled": false
   },
   "outputs": [
    {
     "data": {
      "text/html": [
       "<div>\n",
       "<style scoped>\n",
       "    .dataframe tbody tr th:only-of-type {\n",
       "        vertical-align: middle;\n",
       "    }\n",
       "\n",
       "    .dataframe tbody tr th {\n",
       "        vertical-align: top;\n",
       "    }\n",
       "\n",
       "    .dataframe thead th {\n",
       "        text-align: right;\n",
       "    }\n",
       "</style>\n",
       "<table border=\"1\" class=\"dataframe\">\n",
       "  <thead>\n",
       "    <tr style=\"text-align: right;\">\n",
       "      <th></th>\n",
       "      <th>Date</th>\n",
       "      <th>Label</th>\n",
       "      <th>Top1</th>\n",
       "      <th>Top2</th>\n",
       "      <th>Top3</th>\n",
       "      <th>Top4</th>\n",
       "      <th>Top5</th>\n",
       "      <th>Top6</th>\n",
       "      <th>Top7</th>\n",
       "      <th>Top8</th>\n",
       "      <th>...</th>\n",
       "      <th>Top16</th>\n",
       "      <th>Top17</th>\n",
       "      <th>Top18</th>\n",
       "      <th>Top19</th>\n",
       "      <th>Top20</th>\n",
       "      <th>Top21</th>\n",
       "      <th>Top22</th>\n",
       "      <th>Top23</th>\n",
       "      <th>Top24</th>\n",
       "      <th>Top25</th>\n",
       "    </tr>\n",
       "  </thead>\n",
       "  <tbody>\n",
       "    <tr>\n",
       "      <th>0</th>\n",
       "      <td>2008 08 08</td>\n",
       "      <td>0</td>\n",
       "      <td>b georgia  downs two russian warplanes  as cou...</td>\n",
       "      <td>b breaking  musharraf to be impeached</td>\n",
       "      <td>b russia today  columns of troops roll into so...</td>\n",
       "      <td>b russian tanks are moving towards the capital...</td>\n",
       "      <td>b afghan children raped with  impunity   u n  ...</td>\n",
       "      <td>b 150 russian tanks have entered south ossetia...</td>\n",
       "      <td>b breaking  georgia invades south ossetia  rus...</td>\n",
       "      <td>b the  enemy combatent  trials are nothing but...</td>\n",
       "      <td>...</td>\n",
       "      <td>b georgia invades south ossetia   if russia ge...</td>\n",
       "      <td>b al qaeda faces islamist backlash</td>\n",
       "      <td>b condoleezza rice   the us would not act to p...</td>\n",
       "      <td>b this is a busy day   the european union has ...</td>\n",
       "      <td>b georgia will withdraw 1 000 soldiers from ir...</td>\n",
       "      <td>b why the pentagon thinks attacking iran is a ...</td>\n",
       "      <td>b caucasus in crisis  georgia invades south os...</td>\n",
       "      <td>b indian shoe manufactory    and again in a se...</td>\n",
       "      <td>b visitors suffering from mental illnesses ban...</td>\n",
       "      <td>b no help for mexico s kidnapping surge</td>\n",
       "    </tr>\n",
       "    <tr>\n",
       "      <th>1</th>\n",
       "      <td>2008 08 11</td>\n",
       "      <td>1</td>\n",
       "      <td>b why wont america and nato help us  if they w...</td>\n",
       "      <td>b bush puts foot down on georgian conflict</td>\n",
       "      <td>b jewish georgian minister  thanks to israeli ...</td>\n",
       "      <td>b georgian army flees in disarray as russians ...</td>\n",
       "      <td>b olympic opening ceremony fireworks  faked</td>\n",
       "      <td>b what were the mossad with fraudulent new zea...</td>\n",
       "      <td>b russia angered by israeli military sale to g...</td>\n",
       "      <td>b an american citizen living in s ossetia blam...</td>\n",
       "      <td>...</td>\n",
       "      <td>b israel and the us behind the georgian aggres...</td>\n",
       "      <td>b  do not believe tv  neither russian nor geor...</td>\n",
       "      <td>b riots are still going on in montreal  canada...</td>\n",
       "      <td>b china to overtake us as largest manufacturer</td>\n",
       "      <td>b war in south ossetia  pics</td>\n",
       "      <td>b israeli physicians group condemns state tort...</td>\n",
       "      <td>b  russia has just beaten the united states ov...</td>\n",
       "      <td>b perhaps  the  question about the georgia   r...</td>\n",
       "      <td>b russia is so much better at war</td>\n",
       "      <td>b so this is what it s come to  trading sex fo...</td>\n",
       "    </tr>\n",
       "  </tbody>\n",
       "</table>\n",
       "<p>2 rows × 27 columns</p>\n",
       "</div>"
      ],
      "text/plain": [
       "         Date  Label                                               Top1  \\\n",
       "0  2008 08 08      0  b georgia  downs two russian warplanes  as cou...   \n",
       "1  2008 08 11      1  b why wont america and nato help us  if they w...   \n",
       "\n",
       "                                          Top2  \\\n",
       "0      b breaking  musharraf to be impeached     \n",
       "1  b bush puts foot down on georgian conflict    \n",
       "\n",
       "                                                Top3  \\\n",
       "0  b russia today  columns of troops roll into so...   \n",
       "1  b jewish georgian minister  thanks to israeli ...   \n",
       "\n",
       "                                                Top4  \\\n",
       "0  b russian tanks are moving towards the capital...   \n",
       "1  b georgian army flees in disarray as russians ...   \n",
       "\n",
       "                                                Top5  \\\n",
       "0  b afghan children raped with  impunity   u n  ...   \n",
       "1      b olympic opening ceremony fireworks  faked     \n",
       "\n",
       "                                                Top6  \\\n",
       "0  b 150 russian tanks have entered south ossetia...   \n",
       "1  b what were the mossad with fraudulent new zea...   \n",
       "\n",
       "                                                Top7  \\\n",
       "0  b breaking  georgia invades south ossetia  rus...   \n",
       "1  b russia angered by israeli military sale to g...   \n",
       "\n",
       "                                                Top8  ...  \\\n",
       "0  b the  enemy combatent  trials are nothing but...  ...   \n",
       "1  b an american citizen living in s ossetia blam...  ...   \n",
       "\n",
       "                                               Top16  \\\n",
       "0  b georgia invades south ossetia   if russia ge...   \n",
       "1  b israel and the us behind the georgian aggres...   \n",
       "\n",
       "                                               Top17  \\\n",
       "0                b al qaeda faces islamist backlash    \n",
       "1  b  do not believe tv  neither russian nor geor...   \n",
       "\n",
       "                                               Top18  \\\n",
       "0  b condoleezza rice   the us would not act to p...   \n",
       "1  b riots are still going on in montreal  canada...   \n",
       "\n",
       "                                               Top19  \\\n",
       "0  b this is a busy day   the european union has ...   \n",
       "1    b china to overtake us as largest manufacturer    \n",
       "\n",
       "                                               Top20  \\\n",
       "0  b georgia will withdraw 1 000 soldiers from ir...   \n",
       "1                     b war in south ossetia  pics     \n",
       "\n",
       "                                               Top21  \\\n",
       "0  b why the pentagon thinks attacking iran is a ...   \n",
       "1  b israeli physicians group condemns state tort...   \n",
       "\n",
       "                                               Top22  \\\n",
       "0  b caucasus in crisis  georgia invades south os...   \n",
       "1  b  russia has just beaten the united states ov...   \n",
       "\n",
       "                                               Top23  \\\n",
       "0  b indian shoe manufactory    and again in a se...   \n",
       "1  b perhaps  the  question about the georgia   r...   \n",
       "\n",
       "                                               Top24  \\\n",
       "0  b visitors suffering from mental illnesses ban...   \n",
       "1                 b russia is so much better at war    \n",
       "\n",
       "                                               Top25  \n",
       "0           b no help for mexico s kidnapping surge   \n",
       "1  b so this is what it s come to  trading sex fo...  \n",
       "\n",
       "[2 rows x 27 columns]"
      ]
     },
     "execution_count": 5,
     "metadata": {},
     "output_type": "execute_result"
    }
   ],
   "source": [
    "#Removing the punctuations\n",
    "df.replace(r\"[^a-zA-Z0-9]\", \" \", regex= True, inplace = True)\n",
    "df.head(2)   "
   ]
  },
  {
   "cell_type": "code",
   "execution_count": 6,
   "id": "rapid-collect",
   "metadata": {
    "scrolled": false
   },
   "outputs": [
    {
     "data": {
      "text/plain": [
       "(1989, 27)"
      ]
     },
     "execution_count": 6,
     "metadata": {},
     "output_type": "execute_result"
    }
   ],
   "source": [
    "df.shape"
   ]
  },
  {
   "cell_type": "code",
   "execution_count": 7,
   "id": "naughty-respondent",
   "metadata": {},
   "outputs": [],
   "source": [
    "#Join the entire news of a row from column 2 to 27\n",
    "headlines=[]\n",
    "for row in range(df.shape[0]):\n",
    "    headlines.append(\"\".join(str(x) for x in df.iloc[row, 2:27]))"
   ]
  },
  {
   "cell_type": "code",
   "execution_count": 8,
   "id": "spoken-remedy",
   "metadata": {},
   "outputs": [
    {
     "data": {
      "text/plain": [
       "'b why wont america and nato help us  if they wont help us now  why did we help them in iraq  b bush puts foot down on georgian conflict b jewish georgian minister  thanks to israeli training  we re fending off russia  b georgian army flees in disarray as russians advance   gori abandoned to russia without a shot fired b olympic opening ceremony fireworks  faked  b what were the mossad with fraudulent new zealand passports doing in iraq  b russia angered by israeli military sale to georgia b an american citizen living in s ossetia blames u s  and georgian leaders for the genocide of innocent people b welcome to world war iv  now in high definition  b georgia s move  a mistake of monumental proportions  b russia presses deeper into georgia  u s  says regime change is goal b abhinav bindra wins first ever individual olympic gold medal for india b  u s  ship heads for arctic to define territory b drivers in a jerusalem taxi station threaten to quit rather than work for their new boss   an arab b the french team is stunned by phelps and the 4x100m relay team b israel and the us behind the georgian aggression  b  do not believe tv  neither russian nor georgian  there are much more victims  b riots are still going on in montreal  canada  because police murdered a boy on saturday  b china to overtake us as largest manufacturer b war in south ossetia  pics  b israeli physicians group condemns state torture b  russia has just beaten the united states over the head with peak oil b perhaps  the  question about the georgia   russia conflict  b russia is so much better at war b so this is what it s come to  trading sex for food  '"
      ]
     },
     "execution_count": 8,
     "metadata": {},
     "output_type": "execute_result"
    }
   ],
   "source": [
    "#check a headline\n",
    "headlines[1]"
   ]
  },
  {
   "cell_type": "code",
   "execution_count": 9,
   "id": "upset-cycling",
   "metadata": {},
   "outputs": [
    {
     "data": {
      "text/html": [
       "<div>\n",
       "<style scoped>\n",
       "    .dataframe tbody tr th:only-of-type {\n",
       "        vertical-align: middle;\n",
       "    }\n",
       "\n",
       "    .dataframe tbody tr th {\n",
       "        vertical-align: top;\n",
       "    }\n",
       "\n",
       "    .dataframe thead th {\n",
       "        text-align: right;\n",
       "    }\n",
       "</style>\n",
       "<table border=\"1\" class=\"dataframe\">\n",
       "  <thead>\n",
       "    <tr style=\"text-align: right;\">\n",
       "      <th></th>\n",
       "      <th>date</th>\n",
       "      <th>Label</th>\n",
       "      <th>headlines</th>\n",
       "    </tr>\n",
       "  </thead>\n",
       "  <tbody>\n",
       "    <tr>\n",
       "      <th>0</th>\n",
       "      <td>2008 08 08</td>\n",
       "      <td>0</td>\n",
       "      <td>b georgia  downs two russian warplanes  as cou...</td>\n",
       "    </tr>\n",
       "    <tr>\n",
       "      <th>1</th>\n",
       "      <td>2008 08 11</td>\n",
       "      <td>1</td>\n",
       "      <td>b why wont america and nato help us  if they w...</td>\n",
       "    </tr>\n",
       "    <tr>\n",
       "      <th>2</th>\n",
       "      <td>2008 08 12</td>\n",
       "      <td>0</td>\n",
       "      <td>b remember that adorable 9 year old who sang a...</td>\n",
       "    </tr>\n",
       "    <tr>\n",
       "      <th>3</th>\n",
       "      <td>2008 08 13</td>\n",
       "      <td>0</td>\n",
       "      <td>b  u s  refuses israel weapons to attack iran ...</td>\n",
       "    </tr>\n",
       "    <tr>\n",
       "      <th>4</th>\n",
       "      <td>2008 08 14</td>\n",
       "      <td>1</td>\n",
       "      <td>b all the experts admit that we should legalis...</td>\n",
       "    </tr>\n",
       "  </tbody>\n",
       "</table>\n",
       "</div>"
      ],
      "text/plain": [
       "         date  Label                                          headlines\n",
       "0  2008 08 08      0  b georgia  downs two russian warplanes  as cou...\n",
       "1  2008 08 11      1  b why wont america and nato help us  if they w...\n",
       "2  2008 08 12      0  b remember that adorable 9 year old who sang a...\n",
       "3  2008 08 13      0  b  u s  refuses israel weapons to attack iran ...\n",
       "4  2008 08 14      1  b all the experts admit that we should legalis..."
      ]
     },
     "execution_count": 9,
     "metadata": {},
     "output_type": "execute_result"
    }
   ],
   "source": [
    "#create a new dataset with all the headlines combined with its dates and labels\n",
    "d = {\"date\":df[\"Date\"],\"Label\": df[\"Label\"], \"headlines\": headlines}\n",
    "df1 = pd.DataFrame(data= d)\n",
    "df1.head()"
   ]
  },
  {
   "cell_type": "code",
   "execution_count": 10,
   "id": "complicated-healing",
   "metadata": {
    "scrolled": true
   },
   "outputs": [
    {
     "data": {
      "text/plain": [
       "0      2008-08-08\n",
       "1      2008-08-11\n",
       "2      2008-08-12\n",
       "3      2008-08-13\n",
       "4      2008-08-14\n",
       "          ...    \n",
       "1984   2016-06-27\n",
       "1985   2016-06-28\n",
       "1986   2016-06-29\n",
       "1987   2016-06-30\n",
       "1988   2016-07-01\n",
       "Name: date, Length: 1989, dtype: datetime64[ns]"
      ]
     },
     "execution_count": 10,
     "metadata": {},
     "output_type": "execute_result"
    }
   ],
   "source": [
    "#convert string date to time date format\n",
    "df1[\"date\"] = pd.to_datetime(df1[\"date\"])\n",
    "df1[\"date\"]"
   ]
  },
  {
   "cell_type": "code",
   "execution_count": 11,
   "id": "handled-testament",
   "metadata": {},
   "outputs": [],
   "source": [
    "#Divide the dataset into train and test by its date\n",
    "#Train dataset- till 2014\n",
    "#Test dataset - from 2015\n",
    "df_train = df1[df1[\"date\"] < \"2015-01-01\"]\n",
    "df_test = df1[df1[\"date\"] > \"2014-12-31\"]"
   ]
  },
  {
   "cell_type": "code",
   "execution_count": 12,
   "id": "specific-highland",
   "metadata": {
    "scrolled": false
   },
   "outputs": [
    {
     "data": {
      "text/plain": [
       "(        date  Label                                          headlines\n",
       " 0 2008-08-08      0  b georgia  downs two russian warplanes  as cou...\n",
       " 1 2008-08-11      1  b why wont america and nato help us  if they w...\n",
       " 2 2008-08-12      0  b remember that adorable 9 year old who sang a...\n",
       " 3 2008-08-13      0  b  u s  refuses israel weapons to attack iran ...\n",
       " 4 2008-08-14      1  b all the experts admit that we should legalis...,\n",
       "            date  Label                                          headlines\n",
       " 1611 2015-01-02      1  most cases of cancer are the result of sheer b...\n",
       " 1612 2015-01-05      0  moscow  gt beijing high speed train will reduc...\n",
       " 1613 2015-01-06      0  us oil falls below  50 a barreltoyota gives aw...\n",
       " 1614 2015-01-07      1   shots fired  at french magazine hq90  of bibi...\n",
       " 1615 2015-01-08      1  new charlie hebdo issue to come out next week ...)"
      ]
     },
     "execution_count": 12,
     "metadata": {},
     "output_type": "execute_result"
    }
   ],
   "source": [
    "#check the datasets\n",
    "df_train.head(), df_test.head()"
   ]
  },
  {
   "cell_type": "code",
   "execution_count": 13,
   "id": "loved-barrel",
   "metadata": {
    "scrolled": true
   },
   "outputs": [
    {
     "name": "stdout",
     "output_type": "stream",
     "text": [
      "length of training dataset: 1611\n",
      "length of testing dataset: 378\n"
     ]
    }
   ],
   "source": [
    "#length of each dataset\n",
    "print(\"length of training dataset:\",len(df_train)) \n",
    "print(\"length of testing dataset:\",len(df_test))"
   ]
  },
  {
   "cell_type": "markdown",
   "id": "refined-stage",
   "metadata": {},
   "source": [
    "## Feature Extraction"
   ]
  },
  {
   "cell_type": "markdown",
   "id": "soviet-posting",
   "metadata": {},
   "source": [
    "#### Use CountVectorizer and RandomForestClassifier"
   ]
  },
  {
   "cell_type": "code",
   "execution_count": 14,
   "id": "collected-grenada",
   "metadata": {},
   "outputs": [],
   "source": [
    "from sklearn.feature_extraction.text import CountVectorizer\n",
    "from sklearn.ensemble import RandomForestClassifier"
   ]
  },
  {
   "cell_type": "code",
   "execution_count": 15,
   "id": "basic-criminal",
   "metadata": {
    "scrolled": true
   },
   "outputs": [
    {
     "data": {
      "text/plain": [
       "<1611x371577 sparse matrix of type '<class 'numpy.int64'>'\n",
       "\twith 662785 stored elements in Compressed Sparse Row format>"
      ]
     },
     "execution_count": 15,
     "metadata": {},
     "output_type": "execute_result"
    }
   ],
   "source": [
    "#implement BOW\n",
    "countvector = CountVectorizer(ngram_range=(2,2)) #bigrams\n",
    "train_dataset = countvector.fit_transform(df_train[\"headlines\"])\n",
    "train_dataset"
   ]
  },
  {
   "cell_type": "code",
   "execution_count": 16,
   "id": "abandoned-subcommittee",
   "metadata": {},
   "outputs": [
    {
     "data": {
      "text/plain": [
       "RandomForestClassifier(criterion='entropy', n_estimators=200)"
      ]
     },
     "execution_count": 16,
     "metadata": {},
     "output_type": "execute_result"
    }
   ],
   "source": [
    "#Implement Random Forest Classification with x= traindataset and y = df_train[\"Label\"] \n",
    "RFClassifier = RandomForestClassifier(n_estimators=200,criterion= \"entropy\")\n",
    "RFClassifier.fit(train_dataset,df_train[\"Label\"] )"
   ]
  },
  {
   "cell_type": "code",
   "execution_count": 17,
   "id": "stainless-bradford",
   "metadata": {
    "scrolled": false
   },
   "outputs": [
    {
     "data": {
      "text/plain": [
       "<378x371577 sparse matrix of type '<class 'numpy.int64'>'\n",
       "\twith 80281 stored elements in Compressed Sparse Row format>"
      ]
     },
     "execution_count": 17,
     "metadata": {},
     "output_type": "execute_result"
    }
   ],
   "source": [
    "#Predict Test Dataset\n",
    "test_dataset = countvector.transform(df_test[\"headlines\"])\n",
    "test_dataset"
   ]
  },
  {
   "cell_type": "code",
   "execution_count": 18,
   "id": "monthly-detroit",
   "metadata": {
    "scrolled": true
   },
   "outputs": [
    {
     "data": {
      "text/plain": [
       "array([1, 1, 1, 1, 1, 1, 1, 1, 1, 1, 1, 1, 1, 1, 1, 1, 1, 1, 1, 1, 1, 1,\n",
       "       1, 1, 1, 1, 1, 1, 1, 1, 1, 1, 1, 1, 1, 1, 1, 1, 1, 1, 1, 1, 1, 1,\n",
       "       1, 1, 1, 1, 1, 1, 1, 1, 1, 1, 1, 1, 1, 1, 1, 1, 1, 1, 1, 1, 1, 1,\n",
       "       1, 1, 1, 1, 1, 1, 1, 1, 1, 1, 1, 1, 1, 1, 1, 1, 1, 1, 1, 1, 1, 1,\n",
       "       1, 1, 1, 1, 1, 1, 1, 1, 1, 1, 1, 1, 1, 1, 1, 1, 1, 1, 1, 1, 1, 1,\n",
       "       1, 1, 1, 1, 0, 1, 1, 1, 1, 1, 1, 1, 1, 1, 1, 1, 1, 1, 1, 1, 1, 1,\n",
       "       1, 1, 1, 1, 1, 1, 0, 1, 1, 1, 1, 1, 1, 1, 1, 1, 1, 0, 1, 1, 1, 1,\n",
       "       1, 1, 1, 1, 1, 1, 1, 1, 1, 1, 1, 1, 1, 1, 1, 1, 1, 1, 1, 1, 1, 1,\n",
       "       1, 1, 1, 1, 1, 1, 1, 1, 1, 1, 1, 1, 1, 1, 1, 1, 1, 1, 1, 1, 1, 1,\n",
       "       1, 1, 1, 1, 1, 1, 1, 1, 1, 1, 1, 1, 1, 1, 1, 1, 0, 1, 1, 1, 1, 1,\n",
       "       1, 1, 1, 1, 1, 1, 1, 1, 1, 1, 1, 1, 1, 1, 1, 1, 1, 1, 1, 1, 1, 1,\n",
       "       1, 1, 1, 1, 1, 1, 1, 1, 1, 1, 1, 1, 1, 1, 1, 1, 1, 1, 1, 1, 1, 1,\n",
       "       0, 1, 1, 1, 1, 1, 1, 1, 1, 1, 1, 1, 1, 1, 1, 1, 1, 1, 1, 1, 1, 1,\n",
       "       1, 1, 1, 1, 1, 1, 1, 1, 1, 1, 1, 1, 1, 1, 1, 1, 1, 1, 1, 1, 1, 1,\n",
       "       1, 1, 1, 1, 1, 1, 1, 1, 1, 1, 1, 1, 1, 1, 1, 1, 1, 1, 1, 1, 1, 1,\n",
       "       1, 1, 1, 1, 1, 1, 1, 1, 1, 1, 1, 1, 1, 1, 1, 0, 1, 1, 1, 1, 1, 1,\n",
       "       1, 1, 1, 1, 1, 1, 1, 1, 1, 1, 1, 1, 1, 1, 1, 1, 1, 1, 1, 1, 1, 1,\n",
       "       1, 1, 1, 1], dtype=int64)"
      ]
     },
     "execution_count": 18,
     "metadata": {},
     "output_type": "execute_result"
    }
   ],
   "source": [
    "predictions = RFClassifier.predict(test_dataset)\n",
    "predictions"
   ]
  },
  {
   "cell_type": "code",
   "execution_count": 19,
   "id": "rolled-agent",
   "metadata": {},
   "outputs": [],
   "source": [
    "#Import libraries to check accuracy\n",
    "from sklearn.metrics import accuracy_score, classification_report, confusion_matrix"
   ]
  },
  {
   "cell_type": "code",
   "execution_count": 20,
   "id": "entire-cheat",
   "metadata": {},
   "outputs": [
    {
     "data": {
      "text/plain": [
       "0.5079365079365079"
      ]
     },
     "execution_count": 20,
     "metadata": {},
     "output_type": "execute_result"
    }
   ],
   "source": [
    "accuracy_score(df_test[\"Label\"], predictions)"
   ]
  },
  {
   "cell_type": "code",
   "execution_count": 21,
   "id": "mediterranean-trout",
   "metadata": {
    "scrolled": true
   },
   "outputs": [
    {
     "data": {
      "text/plain": [
       "array([[  3, 183],\n",
       "       [  3, 189]], dtype=int64)"
      ]
     },
     "execution_count": 21,
     "metadata": {},
     "output_type": "execute_result"
    }
   ],
   "source": [
    "confusion_matrix(df_test[\"Label\"],predictions)"
   ]
  },
  {
   "cell_type": "code",
   "execution_count": 22,
   "id": "individual-radio",
   "metadata": {},
   "outputs": [
    {
     "name": "stdout",
     "output_type": "stream",
     "text": [
      "              precision    recall  f1-score   support\n",
      "\n",
      "           0       0.50      0.02      0.03       186\n",
      "           1       0.51      0.98      0.67       192\n",
      "\n",
      "    accuracy                           0.51       378\n",
      "   macro avg       0.50      0.50      0.35       378\n",
      "weighted avg       0.50      0.51      0.36       378\n",
      "\n"
     ]
    }
   ],
   "source": [
    "print(classification_report(df_test[\"Label\"],predictions))"
   ]
  },
  {
   "cell_type": "markdown",
   "id": "fatal-violation",
   "metadata": {},
   "source": [
    "#### Lets use TFIDF instead of Count Vectorizer"
   ]
  },
  {
   "cell_type": "code",
   "execution_count": 23,
   "id": "split-cornwall",
   "metadata": {},
   "outputs": [],
   "source": [
    "from sklearn.feature_extraction.text import TfidfVectorizer"
   ]
  },
  {
   "cell_type": "code",
   "execution_count": 24,
   "id": "interior-turtle",
   "metadata": {},
   "outputs": [],
   "source": [
    "TfidfVector = TfidfVectorizer(ngram_range=(2,2))\n",
    "train_dataset1 = TfidfVector.fit_transform(df_train[\"headlines\"])"
   ]
  },
  {
   "cell_type": "code",
   "execution_count": 25,
   "id": "acoustic-namibia",
   "metadata": {},
   "outputs": [
    {
     "data": {
      "text/plain": [
       "RandomForestClassifier(criterion='entropy', n_estimators=200)"
      ]
     },
     "execution_count": 25,
     "metadata": {},
     "output_type": "execute_result"
    }
   ],
   "source": [
    "#Implement Random Forest Classification with x= traindataset and y = df_train[\"Label\"] \n",
    "RFClassifier1 = RandomForestClassifier(n_estimators=200,criterion= \"entropy\")\n",
    "RFClassifier1.fit(train_dataset1,df_train[\"Label\"] )"
   ]
  },
  {
   "cell_type": "code",
   "execution_count": 26,
   "id": "responsible-longitude",
   "metadata": {},
   "outputs": [
    {
     "data": {
      "text/plain": [
       "<378x371577 sparse matrix of type '<class 'numpy.float64'>'\n",
       "\twith 80281 stored elements in Compressed Sparse Row format>"
      ]
     },
     "execution_count": 26,
     "metadata": {},
     "output_type": "execute_result"
    }
   ],
   "source": [
    "#Predict Test Dataset\n",
    "test_dataset1 = TfidfVector.transform(df_test[\"headlines\"])\n",
    "test_dataset1"
   ]
  },
  {
   "cell_type": "code",
   "execution_count": 27,
   "id": "desperate-observer",
   "metadata": {},
   "outputs": [
    {
     "data": {
      "text/plain": [
       "array([1, 1, 1, 1, 1, 1, 1, 1, 1, 1, 1, 1, 1, 1, 1, 1, 1, 1, 1, 1, 1, 1,\n",
       "       1, 1, 1, 1, 1, 1, 1, 1, 1, 1, 1, 1, 1, 1, 1, 1, 1, 1, 1, 1, 1, 1,\n",
       "       1, 1, 1, 1, 1, 1, 1, 1, 1, 1, 1, 1, 1, 1, 1, 1, 1, 1, 1, 1, 1, 1,\n",
       "       1, 1, 1, 1, 1, 1, 1, 1, 1, 1, 1, 1, 1, 1, 1, 1, 1, 1, 1, 1, 1, 1,\n",
       "       1, 1, 1, 1, 1, 1, 1, 1, 1, 1, 1, 1, 1, 1, 1, 1, 1, 1, 1, 1, 1, 1,\n",
       "       1, 1, 1, 1, 1, 1, 1, 1, 1, 1, 1, 1, 1, 1, 1, 1, 1, 1, 1, 1, 1, 1,\n",
       "       1, 1, 1, 1, 1, 1, 1, 1, 1, 1, 1, 1, 1, 1, 1, 1, 1, 1, 1, 1, 1, 1,\n",
       "       1, 1, 1, 1, 1, 1, 1, 1, 1, 1, 1, 1, 1, 1, 1, 1, 1, 1, 1, 1, 1, 1,\n",
       "       1, 1, 1, 1, 1, 1, 1, 1, 1, 1, 1, 1, 1, 1, 1, 1, 1, 1, 1, 1, 1, 1,\n",
       "       1, 1, 1, 1, 1, 1, 1, 1, 1, 1, 1, 1, 1, 1, 1, 1, 1, 1, 1, 1, 1, 1,\n",
       "       1, 1, 1, 1, 1, 1, 1, 1, 1, 1, 1, 1, 1, 1, 1, 1, 1, 1, 1, 1, 1, 1,\n",
       "       1, 1, 1, 1, 1, 1, 1, 1, 1, 1, 1, 1, 1, 1, 1, 1, 1, 1, 1, 1, 1, 1,\n",
       "       1, 1, 1, 1, 1, 1, 1, 1, 1, 1, 1, 1, 1, 1, 1, 1, 1, 1, 1, 1, 1, 1,\n",
       "       1, 1, 1, 1, 1, 1, 1, 1, 1, 1, 1, 1, 1, 1, 1, 1, 1, 1, 1, 1, 1, 1,\n",
       "       1, 1, 1, 1, 1, 1, 1, 1, 1, 1, 1, 1, 1, 1, 1, 1, 1, 1, 1, 1, 1, 1,\n",
       "       1, 1, 1, 1, 1, 1, 1, 1, 1, 1, 1, 1, 1, 1, 1, 1, 1, 1, 1, 1, 1, 1,\n",
       "       1, 1, 1, 1, 1, 1, 1, 1, 1, 1, 1, 1, 1, 1, 1, 1, 1, 1, 1, 1, 1, 1,\n",
       "       1, 1, 1, 1], dtype=int64)"
      ]
     },
     "execution_count": 27,
     "metadata": {},
     "output_type": "execute_result"
    }
   ],
   "source": [
    "predictions1 = RFClassifier.predict(test_dataset1)\n",
    "predictions1"
   ]
  },
  {
   "cell_type": "code",
   "execution_count": 28,
   "id": "magnetic-raise",
   "metadata": {},
   "outputs": [
    {
     "data": {
      "text/plain": [
       "0.5079365079365079"
      ]
     },
     "execution_count": 28,
     "metadata": {},
     "output_type": "execute_result"
    }
   ],
   "source": [
    "accuracy_score(df_test[\"Label\"],predictions1)"
   ]
  },
  {
   "cell_type": "code",
   "execution_count": 29,
   "id": "ultimate-roommate",
   "metadata": {},
   "outputs": [
    {
     "data": {
      "text/plain": [
       "array([[  0, 186],\n",
       "       [  0, 192]], dtype=int64)"
      ]
     },
     "execution_count": 29,
     "metadata": {},
     "output_type": "execute_result"
    }
   ],
   "source": [
    "confusion_matrix(df_test[\"Label\"], predictions1)"
   ]
  },
  {
   "cell_type": "code",
   "execution_count": 30,
   "id": "junior-helicopter",
   "metadata": {
    "scrolled": true
   },
   "outputs": [
    {
     "name": "stdout",
     "output_type": "stream",
     "text": [
      "              precision    recall  f1-score   support\n",
      "\n",
      "           0       0.00      0.00      0.00       186\n",
      "           1       0.51      1.00      0.67       192\n",
      "\n",
      "    accuracy                           0.51       378\n",
      "   macro avg       0.25      0.50      0.34       378\n",
      "weighted avg       0.26      0.51      0.34       378\n",
      "\n"
     ]
    },
    {
     "name": "stderr",
     "output_type": "stream",
     "text": [
      "C:\\Users\\user\\anaconda3\\lib\\site-packages\\sklearn\\metrics\\_classification.py:1245: UndefinedMetricWarning: Precision and F-score are ill-defined and being set to 0.0 in labels with no predicted samples. Use `zero_division` parameter to control this behavior.\n",
      "  _warn_prf(average, modifier, msg_start, len(result))\n",
      "C:\\Users\\user\\anaconda3\\lib\\site-packages\\sklearn\\metrics\\_classification.py:1245: UndefinedMetricWarning: Precision and F-score are ill-defined and being set to 0.0 in labels with no predicted samples. Use `zero_division` parameter to control this behavior.\n",
      "  _warn_prf(average, modifier, msg_start, len(result))\n",
      "C:\\Users\\user\\anaconda3\\lib\\site-packages\\sklearn\\metrics\\_classification.py:1245: UndefinedMetricWarning: Precision and F-score are ill-defined and being set to 0.0 in labels with no predicted samples. Use `zero_division` parameter to control this behavior.\n",
      "  _warn_prf(average, modifier, msg_start, len(result))\n"
     ]
    }
   ],
   "source": [
    "print(classification_report(df_test[\"Label\"],predictions1))"
   ]
  },
  {
   "cell_type": "markdown",
   "id": "differential-customer",
   "metadata": {},
   "source": [
    "#### Lets use Navie bayes instead of RandomForest"
   ]
  },
  {
   "cell_type": "code",
   "execution_count": 31,
   "id": "vital-gateway",
   "metadata": {},
   "outputs": [],
   "source": [
    "from sklearn.naive_bayes import MultinomialNB"
   ]
  },
  {
   "cell_type": "code",
   "execution_count": 32,
   "id": "interracial-boards",
   "metadata": {},
   "outputs": [
    {
     "data": {
      "text/plain": [
       "MultinomialNB()"
      ]
     },
     "execution_count": 32,
     "metadata": {},
     "output_type": "execute_result"
    }
   ],
   "source": [
    "naive = MultinomialNB()\n",
    "naive.fit(train_dataset,df_train[\"Label\"])"
   ]
  },
  {
   "cell_type": "code",
   "execution_count": 33,
   "id": "chief-energy",
   "metadata": {},
   "outputs": [
    {
     "data": {
      "text/plain": [
       "array([1, 1, 1, 1, 1, 1, 1, 1, 1, 1, 0, 1, 1, 1, 1, 1, 0, 1, 1, 1, 1, 1,\n",
       "       1, 1, 1, 1, 0, 0, 1, 1, 1, 1, 1, 1, 0, 0, 0, 1, 1, 1, 1, 1, 1, 1,\n",
       "       1, 1, 1, 1, 1, 1, 1, 1, 1, 0, 1, 1, 1, 1, 1, 1, 1, 1, 0, 1, 1, 1,\n",
       "       1, 1, 1, 1, 0, 1, 1, 1, 1, 0, 1, 1, 1, 1, 1, 1, 1, 1, 0, 1, 1, 1,\n",
       "       1, 1, 1, 1, 1, 1, 1, 1, 1, 1, 1, 1, 0, 1, 1, 1, 1, 1, 1, 1, 1, 1,\n",
       "       1, 1, 1, 1, 0, 1, 1, 1, 1, 1, 1, 1, 1, 1, 1, 1, 1, 0, 1, 1, 1, 1,\n",
       "       1, 1, 1, 1, 1, 1, 0, 1, 1, 1, 1, 1, 1, 1, 1, 0, 1, 1, 1, 1, 1, 1,\n",
       "       1, 1, 1, 1, 1, 1, 1, 1, 1, 1, 1, 1, 1, 1, 1, 1, 1, 1, 1, 1, 1, 1,\n",
       "       1, 1, 1, 1, 1, 1, 1, 1, 1, 1, 1, 1, 1, 1, 1, 1, 0, 1, 1, 1, 1, 1,\n",
       "       1, 1, 1, 1, 1, 1, 1, 1, 1, 0, 1, 1, 1, 1, 1, 1, 1, 1, 0, 1, 1, 1,\n",
       "       1, 1, 1, 1, 1, 1, 1, 1, 1, 1, 1, 1, 1, 1, 1, 1, 1, 1, 1, 1, 1, 1,\n",
       "       1, 1, 1, 0, 1, 1, 1, 1, 0, 0, 1, 1, 1, 1, 1, 1, 1, 1, 1, 0, 1, 1,\n",
       "       1, 1, 1, 0, 1, 1, 1, 1, 0, 1, 1, 1, 1, 0, 1, 1, 1, 1, 1, 1, 1, 1,\n",
       "       0, 1, 0, 0, 1, 1, 1, 1, 1, 1, 1, 0, 1, 1, 0, 1, 1, 1, 1, 1, 1, 1,\n",
       "       1, 1, 1, 1, 1, 0, 1, 1, 1, 0, 0, 1, 1, 0, 1, 1, 1, 0, 1, 1, 1, 1,\n",
       "       1, 1, 1, 1, 1, 1, 0, 1, 1, 0, 1, 1, 1, 1, 1, 1, 1, 1, 1, 0, 1, 1,\n",
       "       1, 1, 1, 1, 1, 1, 1, 1, 1, 1, 1, 1, 1, 1, 0, 1, 1, 0, 1, 0, 1, 1,\n",
       "       1, 1, 1, 1], dtype=int64)"
      ]
     },
     "execution_count": 33,
     "metadata": {},
     "output_type": "execute_result"
    }
   ],
   "source": [
    "predictions2= naive.predict(test_dataset)\n",
    "predictions2"
   ]
  },
  {
   "cell_type": "code",
   "execution_count": 34,
   "id": "ancient-angel",
   "metadata": {},
   "outputs": [
    {
     "data": {
      "text/plain": [
       "array([[ 18, 168],\n",
       "       [ 25, 167]], dtype=int64)"
      ]
     },
     "execution_count": 34,
     "metadata": {},
     "output_type": "execute_result"
    }
   ],
   "source": [
    "confusion_matrix(df_test['Label'], predictions2)"
   ]
  },
  {
   "cell_type": "code",
   "execution_count": 35,
   "id": "circular-asian",
   "metadata": {},
   "outputs": [
    {
     "data": {
      "text/plain": [
       "0.4894179894179894"
      ]
     },
     "execution_count": 35,
     "metadata": {},
     "output_type": "execute_result"
    }
   ],
   "source": [
    "accuracy_score(df_test['Label'], predictions2)"
   ]
  },
  {
   "cell_type": "code",
   "execution_count": 36,
   "id": "bottom-municipality",
   "metadata": {},
   "outputs": [
    {
     "name": "stdout",
     "output_type": "stream",
     "text": [
      "              precision    recall  f1-score   support\n",
      "\n",
      "           0       0.42      0.10      0.16       186\n",
      "           1       0.50      0.87      0.63       192\n",
      "\n",
      "    accuracy                           0.49       378\n",
      "   macro avg       0.46      0.48      0.40       378\n",
      "weighted avg       0.46      0.49      0.40       378\n",
      "\n"
     ]
    }
   ],
   "source": [
    "print(classification_report(df_test['Label'], predictions2))"
   ]
  },
  {
   "cell_type": "markdown",
   "id": "breathing-muslim",
   "metadata": {},
   "source": [
    "#### All the algorithms have the same accuracy score which is 50%"
   ]
  }
 ],
 "metadata": {
  "kernelspec": {
   "display_name": "Python 3",
   "language": "python",
   "name": "python3"
  },
  "language_info": {
   "codemirror_mode": {
    "name": "ipython",
    "version": 3
   },
   "file_extension": ".py",
   "mimetype": "text/x-python",
   "name": "python",
   "nbconvert_exporter": "python",
   "pygments_lexer": "ipython3",
   "version": "3.8.8"
  },
  "toc": {
   "base_numbering": 1,
   "nav_menu": {},
   "number_sections": false,
   "sideBar": true,
   "skip_h1_title": false,
   "title_cell": "Table of Contents",
   "title_sidebar": "Contents",
   "toc_cell": false,
   "toc_position": {},
   "toc_section_display": true,
   "toc_window_display": false
  }
 },
 "nbformat": 4,
 "nbformat_minor": 5
}
